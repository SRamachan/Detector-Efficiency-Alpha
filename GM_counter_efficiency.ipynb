{
 "cells": [
  {
   "cell_type": "markdown",
   "id": "c95cd374-994d-40fc-8267-205f996a440c",
   "metadata": {},
   "source": [
    "## Detector Efficiency for an $\\alpha$ particle emitted from Polonium"
   ]
  },
  {
   "cell_type": "markdown",
   "id": "cb98d5f7-9be1-4fa9-88b7-1b46685e74be",
   "metadata": {},
   "source": [
    "This program calculates the average background activity and the net activity of a radionuclide (with the background subtracted). It then compares the measured activity with the current activity from a radionuclide with a known half-life corrected for the solid angle subtended by the \n",
    "#radionuclide at the detector with diameter,d, placed a distance, l, away. It assumes that the exact date the radionuclide was synthesized and  \n",
    "#its initial activity are known. The result is the calculation of the detector efficiency."
   ]
  },
  {
   "cell_type": "markdown",
   "id": "588c8658-0985-4891-b498-54f0b9438f25",
   "metadata": {},
   "source": [
    "### Measured counts for background and radionuclide"
   ]
  },
  {
   "cell_type": "code",
   "execution_count": 17,
   "id": "b84b8d8f-1abf-433c-be66-0885e6fb0be7",
   "metadata": {
    "tags": []
   },
   "outputs": [
    {
     "name": "stdout",
     "output_type": "stream",
     "text": [
      "background calculated\n",
      "40 400 134 0.335\n",
      "average radionuclide activity calculated\n",
      "20 200 37470 187.015\n"
     ]
    }
   ],
   "source": [
    "import numpy as np\n",
    "import pandas as pd\n",
    "from datetime import datetime\n",
    "#read time interval versus background count and Sr 90 emissions\n",
    "test_df_in = pd.read_excel('Sr90_test.xlsx', dtype ={'delta_t': int, 'counts': int})\n",
    "#print(test_df_in)# prints column headers, row index number, delta_t and counts. \n",
    "#If you do not want to print the column header and the row index, then use test_df_in.values\n",
    "#print(test_df_in.loc[6])\n",
    "#Important: Your raw data csv or xlsx file should have two columns - Column 0 - time interval; Column 1: counts. Refer to the sample xlsx file Sr90_test.xlsx \n",
    "#to know how the raw data is presented.\n",
    "#When background data acquisition is complete, create a new row with integers -1 typed in both columns. This indicates the end of the background data.\n",
    "#Proceed to measure the activity of a radionuclide. When you have collected data over sufficient number of time intervals, type -10 in both columns to \n",
    "#indicate conclusion of radionuclide activity.\n",
    "#measure the background activity\n",
    "#initialize\n",
    "i = 0\n",
    "delta_t_bg = (test_df_in.iloc[0,0])\n",
    "nbg_sum = 0\n",
    "T_tot_bgnd = 0\n",
    "bg_index = 1\n",
    "#print (delta_t_bg)#interval over which background radiation is counted. This is done over several intervals designated as bg_index\n",
    "while (i >= 0):\n",
    "    if (test_df_in.iloc[i,0] != -1) and (test_df_in.iloc[i,1] != -1): \n",
    "        nbg_sum = nbg_sum + test_df_in.iloc[i,1]#cumulate background counts\n",
    "        i += 1   \n",
    "    elif (test_df_in.iloc[i,0] == -1) and (test_df_in.iloc[i,1] == -1):#if the limiting number -1 is encountered in the two columns, stop cumulating backgroud.\n",
    "#exit loop and proceed to counting emissions from radionuclide\n",
    "        print('background calculated') \n",
    "        break\n",
    "bg_index = i\n",
    "T_tot_bgnd = i*delta_t_bg\n",
    "nbg_avg = nbg_sum / T_tot_bgnd #average background activity\n",
    "print (bg_index, T_tot_bgnd, nbg_sum, nbg_avg)\n",
    "\n",
    "#activity of a radionuclide\n",
    "N_T = 0 #initialize\n",
    "bg_index_nuc = bg_index+1\n",
    "delta_t_nuc = (test_df_in.iloc[bg_index_nuc,0])#time interval over which radionuclide emissions are counted. This is done total of bg_index_nuc times.\n",
    "#print (delta_t_nuc)\n",
    "i = bg_index_nuc\n",
    "#print (i)\n",
    "while(i >= bg_index_nuc):\n",
    "    if (test_df_in.iloc[i,0] != -10) and (test_df_in.iloc[i,1] != -10):\n",
    "        N_T = N_T + test_df_in.iloc[i,1]#cumulate counts from adionuclide over a time interval delta_t_nuc\n",
    "        i += 1\n",
    "    elif (test_df_in.iloc[i,0] == -10) and (test_df_in.iloc[i,1] == -10):\n",
    "        print('average radionuclide activity calculated')\n",
    "        break\n",
    "bg_index_f = i\n",
    "#print (bg_index_f)\n",
    "N_index = bg_index_f - (bg_index_nuc)\n",
    "T_tot_nuc = N_index*delta_t_nuc #total duration, in seconds, where radioactive emission is measured\n",
    "R_T = N_T / T_tot_nuc #total measured activity including background, in counts/sec\n",
    "R_S = R_T - nbg_avg #Activity (net), i.e background subtracted, in counts/sec\n",
    "print (N_index, T_tot_nuc, N_T, R_S)#check to ensure every data point with radionuclide is included"
   ]
  },
  {
   "cell_type": "markdown",
   "id": "698790fe-6cef-4cc1-8339-9a2468a778a6",
   "metadata": {},
   "source": [
    "### Calculate current activity from the known activity on a reference starting day."
   ]
  },
  {
   "cell_type": "code",
   "execution_count": 18,
   "id": "8b2ed4a0-ca21-4d89-8b0a-988e2643322e",
   "metadata": {},
   "outputs": [
    {
     "name": "stdout",
     "output_type": "stream",
     "text": [
      "Elapsed time 79 days\n",
      "Current Activity in counts/s 2490.0\n"
     ]
    }
   ],
   "source": [
    "di = '2005/1/1'#date of synthesis stamped on the radionuclide. Change this date to that for your sample\n",
    "df = '2005/3/21'#date on which you acquired the data.\n",
    "di = datetime.strptime(di,\"%Y/%m/%d\")\n",
    "df = datetime.strptime(df,\"%Y/%m/%d\")\n",
    "timedelta = (abs(df-di))#difference in days\n",
    "timediff = timedelta.days\n",
    "print(\"Elapsed time\", timediff, \"days\")\n",
    "t_half = 138 #half life of a radionuclide in days. Enter the value in days for the radionuclide you are using\n",
    "decay_const = np.log(2)/t_half #/day\n",
    "A_init = 0.1 #initial activity in microcurie\n",
    "A_S = (A_init*1e-6*3.7e10)*np.exp(-decay_const*timediff)#decays per sec\n",
    "A_S = round(A_S,-1)#round the result to nearest 10s\n",
    "print(\"Current Activity in counts/s\", A_S)"
   ]
  },
  {
   "cell_type": "markdown",
   "id": "d170a9cc-f1cf-4fb2-a59e-7377bb1a8940",
   "metadata": {},
   "source": [
    "### Correct for area of the detector"
   ]
  },
  {
   "cell_type": "code",
   "execution_count": 19,
   "id": "460f4d2b-357c-4d3e-acf5-097498f2bb2a",
   "metadata": {
    "tags": []
   },
   "outputs": [
    {
     "name": "stdout",
     "output_type": "stream",
     "text": [
      "geometric ratio 0.22893656508895344\n",
      "geometry corrected counts 570.0\n"
     ]
    }
   ],
   "source": [
    "import math\n",
    "l =  10 #distance between radionuclide and GM counter. l=10 mm is used as an example\n",
    "d = 31 #diameter of the mica window in mm. 35 mm is used as an example.\n",
    "#geometric ratio, GR\n",
    "GR = 0.5- (l/(2*math.sqrt(l**2+((d/2)**2))))\n",
    "print(\"geometric ratio\", GR)\n",
    "A_Scorr = A_S*GR\n",
    "A_Scorr = round(A_Scorr,-1)\n",
    "print(\"geometry corrected counts\", A_Scorr)\n"
   ]
  },
  {
   "cell_type": "markdown",
   "id": "90cd7893-f34f-42c2-b008-bac6ae2e1866",
   "metadata": {},
   "source": [
    "### Calculate detector efficiency for an alpha particle"
   ]
  },
  {
   "cell_type": "code",
   "execution_count": 20,
   "id": "d4dd84ce-c128-4810-9b22-7b6f68514ebd",
   "metadata": {
    "tags": []
   },
   "outputs": [
    {
     "name": "stdout",
     "output_type": "stream",
     "text": [
      "detector efficiency for alpha particle 0.32809649122807016\n"
     ]
    }
   ],
   "source": [
    "detect_eff = R_S/A_Scorr\n",
    "print (\"detector efficiency for alpha particle is\", detect_eff)"
   ]
  },
  {
   "cell_type": "code",
   "execution_count": null,
   "id": "9afa4187-60bb-4563-8593-ebe4017aa54a",
   "metadata": {},
   "outputs": [],
   "source": []
  }
 ],
 "metadata": {
  "kernelspec": {
   "display_name": "Python 3 (ipykernel)",
   "language": "python",
   "name": "python3"
  },
  "language_info": {
   "codemirror_mode": {
    "name": "ipython",
    "version": 3
   },
   "file_extension": ".py",
   "mimetype": "text/x-python",
   "name": "python",
   "nbconvert_exporter": "python",
   "pygments_lexer": "ipython3",
   "version": "3.10.10"
  }
 },
 "nbformat": 4,
 "nbformat_minor": 5
}
